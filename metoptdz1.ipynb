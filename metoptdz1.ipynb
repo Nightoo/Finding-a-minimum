{
 "cells": [
  {
   "cell_type": "code",
   "execution_count": 1,
   "id": "9d9beb25-cc4a-4a5f-8c61-420a7dc92c1e",
   "metadata": {},
   "outputs": [],
   "source": [
    "import numpy as np #для численных вычислений\n",
    "import sympy as sp #для символьных вычислений"
   ]
  },
  {
   "cell_type": "code",
   "execution_count": 2,
   "id": "97a5c21d-df92-494e-8f05-63563ada3a2a",
   "metadata": {},
   "outputs": [
    {
     "data": {
      "text/latex": [
       "$\\displaystyle 6 x^{2} - 4 x + 3 y^{2} + 3 y + 2$"
      ],
      "text/plain": [
       "6*x**2 - 4*x + 3*y**2 + 3*y + 2"
      ]
     },
     "execution_count": 2,
     "metadata": {},
     "output_type": "execute_result"
    }
   ],
   "source": [
    "x0_sym = sp.Matrix([0.23, -0.4])\n",
    "x0_val = np.array([0.23, -0.4]) #начальная точка в символьном и численном видах\n",
    "epsilon = 0.001 #погрешность\n",
    "\n",
    "A = np.array([[6, 0], [0, 3]])\n",
    "B = np.array([-4, 3])\n",
    "C = 2 #коэффициенты исходной функции в виде матриц: A - коэфф. при второй степени, B - при первой, C - свободный член\n",
    "\n",
    "x, y = sp.symbols('x y') #переменные для символьных вычислений\n",
    "x_ = sp.Matrix([x, y]) #матрица для символьных вычислений\n",
    "f = 6 * x**2 + 3 * y**2 - 4 * x + 3 * y + 2 #исходная функция\n",
    "f"
   ]
  },
  {
   "cell_type": "code",
   "execution_count": 3,
   "id": "ac1cb7f2-d158-4fba-a173-81272b256431",
   "metadata": {},
   "outputs": [],
   "source": [
    "def f(x, A, B, C):\n",
    "    '''\n",
    "    Возвращает функцию по заданным матрицам коэффициентов (A, B, C) и двумерной точке (x)\n",
    "    '''\n",
    "    return x.dot(A.dot(x)) + B.dot(x) + C"
   ]
  },
  {
   "cell_type": "code",
   "execution_count": 4,
   "id": "124271cd-fa50-4673-8507-a95dc9a5472f",
   "metadata": {},
   "outputs": [],
   "source": [
    "def gradf(x__, A, B, C):\n",
    "    '''\n",
    "    Возвращает символьный градиент по заданным матрицам коэффициентов (A, B, C) и символьной двумерной точке (x__)\n",
    "    '''\n",
    "    equation, = f(x__, A, B, C)\n",
    "    return sp.Matrix([sp.diff(equation, v) for v in x_])\n",
    "\n",
    "def gradf_val(xm_val, x__, A, B, C):\n",
    "    '''\n",
    "    Возвращает численный градиент по заданным матрицам коэффициентов (A, B, C), символьной двумерной точке (x__)\n",
    "    и численной двумерной точке (xm_val)\n",
    "    '''\n",
    "    ans = gradf(x__, A, B, C)\n",
    "    return ans.subs([(x, xm_val[0]), (y, xm_val[1])])"
   ]
  },
  {
   "cell_type": "code",
   "execution_count": 5,
   "id": "966ab7fb-3c5c-427d-878f-539dd98e47c5",
   "metadata": {},
   "outputs": [],
   "source": [
    "def alpha(xm_sym, xm_val, x__, A, B, C):\n",
    "    '''\n",
    "    Возвращает альфа, подходящую для метода наибыстрейшего спуска, по заданным по заданным матрицам коэффициентов (A, B, C),\n",
    "    символьной двумерной точке (xm_sym) и численной двумерной точке (xm_val)\n",
    "    '''\n",
    "    a = sp.Symbol('alpha')\n",
    "    x_n = gradf_val(xm_val, x__, A, B, C)\n",
    "    x_n = xm_sym - x_n * a\n",
    "    q = f(x_n, A, B, C)\n",
    "    q = sp.simplify(q)\n",
    "    p = sp.Poly(q[0], a) #преобразуем в в вид полинома, чтобы получить коэффициенты при степенях альфа\n",
    "    b = p.coeffs()[1]\n",
    "    a = p.coeffs()[0]\n",
    "    return (-1) * b / (2 * a) #полученный полином относительно альфа будет иметь вид параболы, ее вершина находится в точке -b/2a"
   ]
  },
  {
   "cell_type": "code",
   "execution_count": 6,
   "id": "6ebd9a31-695c-4f05-a19b-6874c962ee75",
   "metadata": {},
   "outputs": [],
   "source": [
    "def iter(xm_sym, xm_val, x__, A, B, C):\n",
    "    '''\n",
    "    Совершает одну итерацию и возвращает следующую двумерную точку\n",
    "    x1 = x0 - a * grad(x0)\n",
    "    '''\n",
    "    return xm_sym - alpha(xm_sym, xm_val, x__, A, B, C) * gradf_val(xm_val, x__, A, B, C)"
   ]
  },
  {
   "cell_type": "code",
   "execution_count": 7,
   "id": "bfc0b954-b38e-44f8-937a-a8bbc70e9ba9",
   "metadata": {},
   "outputs": [],
   "source": [
    "def stop(epsilon, xm_val, x__, A, B, C):\n",
    "    '''\n",
    "    Проверяет критерий останова\n",
    "    '''\n",
    "    return np.max(np.abs(gradf_val(xm_val, x__, A, B, C))) < epsilon"
   ]
  },
  {
   "cell_type": "code",
   "execution_count": 8,
   "id": "6c6e0afb-8fd2-4338-a08d-002b3da2619b",
   "metadata": {},
   "outputs": [
    {
     "name": "stdout",
     "output_type": "stream",
     "text": [
      "Количество итераций:  6\n"
     ]
    },
    {
     "data": {
      "text/latex": [
       "$\\displaystyle \\left[\\begin{matrix}0.333295759891293\\\\-0.499963638604477\\end{matrix}\\right]$"
      ],
      "text/plain": [
       "Matrix([\n",
       "[ 0.333295759891293],\n",
       "[-0.499963638604477]])"
      ]
     },
     "execution_count": 8,
     "metadata": {},
     "output_type": "execute_result"
    }
   ],
   "source": [
    "def solve_grad(epsilon, xm_sym, xm_val, x__, A, B, C):\n",
    "    '''\n",
    "    Нахождение точки минимума с помощью метода наибыстрейшего градиентного спуска\n",
    "    '''\n",
    "    counter = 0\n",
    "    while not stop(epsilon, xm_val, x_, A, B, C):\n",
    "        xm_sym = iter(xm_sym, xm_val, x_, A, B, C)\n",
    "        xm_val = np.array([xm_sym[0], xm_sym[1]])\n",
    "        counter += 1\n",
    "    ans_sym = xm_sym\n",
    "    ans_val = xm_val\n",
    "    print('Количество итераций: ', counter)\n",
    "    return ans_sym\n",
    "\n",
    "solve_grad(epsilon, x0_sym, x0_val, x_, A, B, C)"
   ]
  },
  {
   "cell_type": "code",
   "execution_count": 9,
   "id": "0c6470af-db63-47b6-a17d-ffbf5003736f",
   "metadata": {},
   "outputs": [],
   "source": [
    "def beta(xm_val,xm1_val, x__, A, B, C):\n",
    "    fm = gradf_val(xm_val, x__, A, B, C)\n",
    "    fm1 = gradf_val(xm1_val, x__, A, B, C)\n",
    "    return (np.dot(fm1.T, fm1) / np.dot(fm.T, fm))"
   ]
  },
  {
   "cell_type": "code",
   "execution_count": 10,
   "id": "865fb935-7e72-4802-88fc-bfb8a9450c1f",
   "metadata": {},
   "outputs": [
    {
     "name": "stdout",
     "output_type": "stream",
     "text": [
      "Matrix([[0.230000000000000], [-0.400000000000000]]) [ 0.23 -0.4 ] 0\n",
      "[0.344162397143301 -0.455239869585468] 1\n",
      "[0.337553542535960 -0.482556468629144] 2\n",
      "[0.328931769431526 -0.503531168918986] 3\n",
      "[0.334265585803250 -0.505588077652600] 4\n",
      "[0.334578954401802 -0.503093117450620] 5\n",
      "[0.332555539280186 -0.498362941283364] 6\n",
      "[0.333155384415534 -0.498330314161812] 7\n",
      "[0.333720720085567 -0.499445068247741] 8\n",
      "[0.333227159386182 -0.500467766175164] 9\n",
      "[0.333264911946591 -0.500372823847726] 10\n",
      "[0.333413792402844 -0.499973912838674] 11\n",
      "Количество итераций 11\n"
     ]
    },
    {
     "data": {
      "text/latex": [
       "$\\displaystyle \\left[\\begin{matrix}0.333413792402844\\\\-0.499973912838674\\end{matrix}\\right]$"
      ],
      "text/plain": [
       "Matrix([\n",
       "[ 0.333413792402844],\n",
       "[-0.499973912838674]])"
      ]
     },
     "execution_count": 10,
     "metadata": {},
     "output_type": "execute_result"
    }
   ],
   "source": [
    "def solve_conj(epsilon, xm_sym, xm_val, x__, A, B, C):\n",
    "    h0 = (-1) * gradf_val(xm_val, x__, A, B, C)\n",
    "    a = alpha(xm_sym, xm_val, x__, A, B, C)\n",
    "    xm1_sym = xm_sym + a * h0\n",
    "    xm1_val = np.array([xm1_sym[0], xm1_sym[1]])\n",
    "    counter = 0\n",
    "    while not stop(epsilon, xm_val, x__, A, B, C):\n",
    "        b = beta(xm_val,xm1_val, x__, A, B, C)\n",
    "        h1 = (-1) * gradf_val(xm1_val, x__, A, B, C) + b[0][0] * h0\n",
    "        a = alpha(xm_sym, xm_val, x__, A, B, C)\n",
    "        xm_sym = xm1_sym\n",
    "        xm_val = xm1_val\n",
    "        xm1_sym = xm_sym + a * h1\n",
    "        xm1_val = np.array([xm1_sym[0], xm1_sym[1]])\n",
    "        h0 = h1\n",
    "        counter += 1\n",
    "    ans_sym = xm_sym\n",
    "    print('Количество итераций', counter)\n",
    "    return ans_sym\n",
    "solve_conj(epsilon, x0_sym, x0_val, x_, A, B, C)"
   ]
  },
  {
   "cell_type": "code",
   "execution_count": null,
   "id": "7fdb61d6-be1f-47fc-9029-7694177478f2",
   "metadata": {},
   "outputs": [],
   "source": []
  }
 ],
 "metadata": {
  "kernelspec": {
   "display_name": "Python 3 (ipykernel)",
   "language": "python",
   "name": "python3"
  },
  "language_info": {
   "codemirror_mode": {
    "name": "ipython",
    "version": 3
   },
   "file_extension": ".py",
   "mimetype": "text/x-python",
   "name": "python",
   "nbconvert_exporter": "python",
   "pygments_lexer": "ipython3",
   "version": "3.9.6"
  }
 },
 "nbformat": 4,
 "nbformat_minor": 5
}
